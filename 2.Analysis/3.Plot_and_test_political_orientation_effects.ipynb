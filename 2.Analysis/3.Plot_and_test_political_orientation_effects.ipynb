{
 "cells": [
  {
   "cell_type": "markdown",
   "id": "08563a49",
   "metadata": {},
   "source": [
    "# Set up environment"
   ]
  },
  {
   "cell_type": "code",
   "execution_count": null,
   "id": "17e1e84d",
   "metadata": {},
   "outputs": [],
   "source": [
    "import sys\n",
    "print(sys.prefix)"
   ]
  },
  {
   "cell_type": "code",
   "execution_count": null,
   "id": "316c09c9",
   "metadata": {},
   "outputs": [],
   "source": [
    "import numpy as np\n",
    "import pandas as pd\n",
    "import seaborn as sns\n",
    "import matplotlib.pyplot as plt\n",
    "import urllib, os,sys, pdfplumber, glob, requests, wordcloud, re, dateparser, scipy"
   ]
  },
  {
   "cell_type": "markdown",
   "id": "9192c128",
   "metadata": {},
   "source": [
    "# Set up working dir"
   ]
  },
  {
   "cell_type": "code",
   "execution_count": null,
   "id": "fca98c33",
   "metadata": {},
   "outputs": [],
   "source": [
    "base_dir = os.path.realpath('../..')\n",
    "print(base_dir)\n",
    "data_dir = base_dir + '\\Data'"
   ]
  },
  {
   "cell_type": "code",
   "execution_count": null,
   "id": "7ccc4770",
   "metadata": {},
   "outputs": [],
   "source": [
    "in_dir = data_dir + '\\\\TK_commissieVWS\\\\auto_download_20230118'"
   ]
  },
  {
   "cell_type": "markdown",
   "id": "9c41060e",
   "metadata": {},
   "source": [
    "## Choose lexicon setting"
   ]
  },
  {
   "cell_type": "code",
   "execution_count": null,
   "id": "cc8938ae",
   "metadata": {},
   "outputs": [],
   "source": [
    "lex_dict = {'original':{'lexicon':pd.read_csv(data_dir + '\\\\lexicons\\\\lexicon.csv',  index_col = 0),\n",
    "                        'data':pd.read_csv(in_dir + '\\\\speaking_turns_coded_labeled-original.csv', index_col = 0)},\n",
    "            'sens_noSEGV':{'lexicon':pd.read_csv(data_dir + '\\\\lexicons\\\\lexicon_no_SEGV.csv', index_col = 0),\n",
    "                           'data':pd.read_csv(in_dir + '\\\\speaking_turns_coded_labeled-sens_noSEGV.csv', index_col = 0)}}"
   ]
  },
  {
   "cell_type": "code",
   "execution_count": null,
   "id": "8e872ce1",
   "metadata": {},
   "outputs": [],
   "source": [
    "lex_name = 'original'"
   ]
  },
  {
   "cell_type": "code",
   "execution_count": null,
   "id": "a17968ec",
   "metadata": {},
   "outputs": [],
   "source": [
    "results_dir = base_dir + '\\\\Results\\\\dataset_20230118\\\\lexicon-%s'%lex_name"
   ]
  },
  {
   "cell_type": "markdown",
   "id": "3d389e59",
   "metadata": {},
   "source": [
    "## Load speaking turns data"
   ]
  },
  {
   "cell_type": "code",
   "execution_count": null,
   "id": "e35fc53d",
   "metadata": {},
   "outputs": [],
   "source": [
    "vws_data = lex_dict[lex_name]['data']"
   ]
  },
  {
   "cell_type": "code",
   "execution_count": null,
   "id": "6e55462b",
   "metadata": {},
   "outputs": [],
   "source": [
    "vws_data.head(3).append(vws_data.tail(3))"
   ]
  },
  {
   "cell_type": "code",
   "execution_count": null,
   "id": "c85280b9",
   "metadata": {},
   "outputs": [],
   "source": [
    "vws_data.shape"
   ]
  },
  {
   "cell_type": "code",
   "execution_count": null,
   "id": "a8cde145",
   "metadata": {},
   "outputs": [],
   "source": [
    "vws_data['LEEF'].sum()"
   ]
  },
  {
   "cell_type": "code",
   "execution_count": null,
   "id": "94b101aa",
   "metadata": {},
   "outputs": [],
   "source": [
    "vws_data.loc[vws_data['LEEF']==1,'text']"
   ]
  },
  {
   "cell_type": "code",
   "execution_count": null,
   "id": "c02c6226",
   "metadata": {},
   "outputs": [],
   "source": [
    "vws_data.loc[2007,'text']"
   ]
  },
  {
   "cell_type": "markdown",
   "id": "2527c47f",
   "metadata": {},
   "source": [
    " "
   ]
  },
  {
   "cell_type": "code",
   "execution_count": null,
   "id": "d0b70a43",
   "metadata": {
    "scrolled": true
   },
   "outputs": [],
   "source": [
    "cabinets = vws_data['cabinet'].unique().tolist()\n",
    "print(cabinets)"
   ]
  },
  {
   "cell_type": "code",
   "execution_count": null,
   "id": "9be11cb8",
   "metadata": {},
   "outputs": [],
   "source": [
    "vws_data.shape"
   ]
  },
  {
   "cell_type": "code",
   "execution_count": null,
   "id": "84b01102",
   "metadata": {},
   "outputs": [],
   "source": [
    "sum(vws_data['text'].str.split(' ').str.len())"
   ]
  },
  {
   "cell_type": "code",
   "execution_count": null,
   "id": "5d1b995f",
   "metadata": {},
   "outputs": [],
   "source": [
    "np.mean(vws_data[['LEEF','SDOH']])"
   ]
  },
  {
   "cell_type": "code",
   "execution_count": null,
   "id": "14b54675",
   "metadata": {},
   "outputs": [],
   "source": [
    "# np.mean(vws_data[['LEEF','SDOH']])"
   ]
  },
  {
   "cell_type": "markdown",
   "id": "03cef798",
   "metadata": {},
   "source": [
    "## Assign class"
   ]
  },
  {
   "cell_type": "code",
   "execution_count": null,
   "id": "de139122",
   "metadata": {},
   "outputs": [],
   "source": [
    "vws_data['class'] = 'other'\n",
    "vws_data.loc[vws_data['LEEF']==1,'class'] = 'LEEF'\n",
    "vws_data.loc[vws_data['SDOH']==1,'class'] = 'SDOH'\n",
    "vws_data.loc[((vws_data['LEEF']==1) & (vws_data['SDOH']==1)),'class'] = 'both'"
   ]
  },
  {
   "cell_type": "markdown",
   "id": "394c73ca",
   "metadata": {},
   "source": [
    "# Question 1. Testing the influence of political leaning"
   ]
  },
  {
   "cell_type": "markdown",
   "id": "1f9583b8",
   "metadata": {},
   "source": [
    "##### Plot LR by speaking turn category"
   ]
  },
  {
   "cell_type": "code",
   "execution_count": null,
   "id": "53710f0e",
   "metadata": {},
   "outputs": [],
   "source": [
    "from scipy.stats import mannwhitneyu as mwu"
   ]
  },
  {
   "cell_type": "code",
   "execution_count": null,
   "id": "2dfab8f3",
   "metadata": {},
   "outputs": [],
   "source": [
    "cats = ['LEEF','SDOH','other']\n",
    "comparisons = pd.DataFrame([['LEEF','other','greater'],\n",
    "                            ['SDOH','other','less'],\n",
    "                            ['LEEF','SDOH','greater']],\n",
    "                          columns = ['catA','catB','direction'])\n",
    "comparisons"
   ]
  },
  {
   "cell_type": "code",
   "execution_count": null,
   "id": "30792557",
   "metadata": {},
   "outputs": [],
   "source": [
    "out_var = 'LR'\n",
    "if out_var == 'LR':\n",
    "    x_poles = ['Left','Right']\n",
    "elif out_var == 'TANGAL':\n",
    "    x_poles = ['Conservative','Progressive']"
   ]
  },
  {
   "cell_type": "code",
   "execution_count": null,
   "id": "c9fd2f39",
   "metadata": {},
   "outputs": [],
   "source": [
    "for cat in cats:\n",
    "    dat = vws_data.loc[vws_data['class']==cat,out_var]\n",
    "    print('%s: mean LR = %.3f, sem = %.3f'%(cat, dat.mean(), dat.sem()))\n",
    "print('')\n",
    "for ri,row in comparisons.iterrows():\n",
    "    cat1 = row['catA']\n",
    "    cat2 = row['catB']\n",
    "    print(cat1, ' vs ', cat2)\n",
    "    dat1 = vws_data.loc[vws_data['class']==cat1,out_var]\n",
    "    dat2 = vws_data.loc[vws_data['class']==cat2,out_var]\n",
    "    print('delta = %.3f'%(dat1.mean()-dat2.mean()))\n",
    "    print(mwu(dat1,dat2, alternative = row['direction']))\n",
    "    print('')"
   ]
  },
  {
   "cell_type": "code",
   "execution_count": null,
   "id": "ddb35027",
   "metadata": {},
   "outputs": [],
   "source": [
    "fig, ax = plt.subplots(1,1,figsize=[12,4])\n",
    "cats = ['LEEF','SDOH','other']\n",
    "sns.stripplot(data = vws_data.loc[vws_data['class'].isin(cats),:],\n",
    "              y = 'class', x = out_var, alpha = .05, jitter = True, order = cats)\n",
    "for ci,cat in enumerate(cats):\n",
    "    mean_lr = vws_data.loc[vws_data['class']==cat, out_var].mean()\n",
    "    ax.scatter([mean_lr],[ci],40,color = 'k', zorder = 10)\n",
    "sns.barplot(data = vws_data, y = 'class', x = out_var, order = cats,\n",
    "             capsize = .1, alpha = 0, zorder = 10)\n",
    "vline_x = vws_data.loc[vws_data['class']=='other','LR'].mean()\n",
    "plt.plot([vline_x,vline_x],[-.2,2.2],'k--', lw = 1)\n",
    "ax.set(ylabel = 'Category', yticklabels = ['Lifestyle','SDOH','Other'],\n",
    "      title = 'Political orientation of MPs per contribution category',\n",
    "      xlabel = '<-- %s            Political orientation          %s -->'%(x_poles[0],x_poles[1]),\n",
    "      xlim = [-2.2,2.2]);\n",
    "plt.tight_layout()\n",
    "# fig.savefig(results_dir + '//Theme_LR_orientation.pdf', bbox_inches = 'tight', transparent = True)"
   ]
  },
  {
   "cell_type": "markdown",
   "id": "6596c498",
   "metadata": {},
   "source": [
    "##### Sensitivity analysis: big parties only"
   ]
  },
  {
   "cell_type": "code",
   "execution_count": null,
   "id": "0fb164c3",
   "metadata": {},
   "outputs": [],
   "source": [
    "big_parties_only = vws_data.copy()\n",
    "big_parties_only = big_parties_only.loc[big_parties_only['party'].isin(['pvda','pvv','cda','vvd','d66','gl','sp'])]\n",
    "print(big_parties_only.shape)"
   ]
  },
  {
   "cell_type": "code",
   "execution_count": null,
   "id": "0d2aae7f",
   "metadata": {},
   "outputs": [],
   "source": [
    "for cat in cats:\n",
    "    dat = big_parties_only.loc[big_parties_only['class']==cat,out_var]\n",
    "    print('%s: mean LR = %.3f, sem = %.3f'%(cat, dat.mean(), dat.sem()))\n",
    "print('')\n",
    "for ri,row in comparisons.iterrows():\n",
    "    cat1 = row['catA']\n",
    "    cat2 = row['catB']\n",
    "    print(cat1, ' vs ', cat2)\n",
    "    dat1 = big_parties_only.loc[big_parties_only['class']==cat1,out_var]\n",
    "    dat2 = big_parties_only.loc[big_parties_only['class']==cat2,out_var]\n",
    "    print('delta = %.3f'%(dat1.mean()-dat2.mean()))\n",
    "    print(mwu(dat1,dat2, alternative = row['direction']))\n",
    "    print('')"
   ]
  },
  {
   "cell_type": "code",
   "execution_count": null,
   "id": "c0ab3221",
   "metadata": {},
   "outputs": [],
   "source": [
    "fig, ax = plt.subplots(1,1,figsize=[12,4])\n",
    "cats = ['LEEF','SDOH','other']\n",
    "sns.stripplot(data = big_parties_only.loc[big_parties_only['class'].isin(cats),:],\n",
    "              y = 'class', x = out_var, alpha = .05, jitter = True, order = cats)\n",
    "for ci,cat in enumerate(cats):\n",
    "    mean_lr = big_parties_only.loc[big_parties_only['class']==cat, out_var].mean()\n",
    "    ax.scatter([mean_lr],[ci],40,color = 'k', zorder = 10)\n",
    "sns.barplot(data = big_parties_only, y = 'class', x = out_var, order = cats,\n",
    "             capsize = .1, alpha = 0, zorder = 10)\n",
    "vline_x = big_parties_only.loc[big_parties_only['class']=='other','LR'].mean()\n",
    "plt.plot([vline_x,vline_x],[-.2,2.2],'k--', lw = 1)\n",
    "ax.set(ylabel = 'Category', yticklabels = ['Lifestyle','SDOH','Other'],\n",
    "      title = 'Political orientation of MPs per contribution category',\n",
    "      xlabel = '<-- %s            Political orientation          %s -->'%(x_poles[0],x_poles[1]),\n",
    "      xlim = [-2.2,2.2]);\n",
    "plt.tight_layout()\n",
    "# fig.savefig(results_dir + '//Theme_LR_orientation_big_parties_only.pdf', bbox_inches = 'tight', transparent = True)"
   ]
  },
  {
   "cell_type": "markdown",
   "id": "46f9936b",
   "metadata": {},
   "source": [
    "##### Exclude D66"
   ]
  },
  {
   "cell_type": "code",
   "execution_count": null,
   "id": "fc5d9c4f",
   "metadata": {
    "scrolled": true
   },
   "outputs": [],
   "source": [
    "exclude_d66 = vws_data.copy()\n",
    "exclude_d66 = exclude_d66.loc[exclude_d66['party']!='d66']\n",
    "print(exclude_d66.shape)"
   ]
  },
  {
   "cell_type": "code",
   "execution_count": null,
   "id": "4468886b",
   "metadata": {},
   "outputs": [],
   "source": [
    "for cat in cats:\n",
    "    dat = exclude_d66.loc[exclude_d66['class']==cat,out_var]\n",
    "    print('%s: mean LR = %.3f, sem = %.3f'%(cat, dat.mean(), dat.sem()))\n",
    "print('')\n",
    "for ri,row in comparisons.iterrows():\n",
    "    cat1 = row['catA']\n",
    "    cat2 = row['catB']\n",
    "    print(cat1, ' vs ', cat2)\n",
    "    dat1 = exclude_d66.loc[exclude_d66['class']==cat1,out_var]\n",
    "    dat2 = exclude_d66.loc[exclude_d66['class']==cat2,out_var]\n",
    "    print('delta = %.3f'%(dat1.mean()-dat2.mean()))\n",
    "    print(mwu(dat1,dat2, alternative = row['direction']))\n",
    "    print('')"
   ]
  },
  {
   "cell_type": "markdown",
   "id": "3924b613",
   "metadata": {},
   "source": [
    "##### Exclude FVD"
   ]
  },
  {
   "cell_type": "code",
   "execution_count": null,
   "id": "197ce2d4",
   "metadata": {
    "scrolled": true
   },
   "outputs": [],
   "source": [
    "exclude_fvd = vws_data.copy()\n",
    "exclude_fvd = exclude_fvd.loc[exclude_fvd['party']!='fvd']\n",
    "print(exclude_fvd.shape)"
   ]
  },
  {
   "cell_type": "code",
   "execution_count": null,
   "id": "de728af5",
   "metadata": {},
   "outputs": [],
   "source": [
    "for cat in cats:\n",
    "    dat = exclude_fvd.loc[exclude_fvd['class']==cat,out_var]\n",
    "    print('%s: mean LR = %.3f, sem = %.3f'%(cat, dat.mean(), dat.sem()))\n",
    "print('')\n",
    "for ri,row in comparisons.iterrows():\n",
    "    cat1 = row['catA']\n",
    "    cat2 = row['catB']\n",
    "    print(cat1, ' vs ', cat2)\n",
    "    dat1 = exclude_fvd.loc[exclude_fvd['class']==cat1,out_var]\n",
    "    dat2 = exclude_fvd.loc[exclude_fvd['class']==cat2,out_var]\n",
    "    print('delta = %.3f'%(dat1.mean()-dat2.mean()))\n",
    "    print(mwu(dat1,dat2, alternative = row['direction']))\n",
    "    print('')"
   ]
  },
  {
   "cell_type": "markdown",
   "id": "4201b1a7",
   "metadata": {},
   "source": [
    "##### Test by GALTAN"
   ]
  },
  {
   "cell_type": "code",
   "execution_count": null,
   "id": "ed5d4c09",
   "metadata": {},
   "outputs": [],
   "source": [
    "out_var = 'TANGAL'\n",
    "for cat in cats:\n",
    "    dat = vws_data.loc[vws_data['class']==cat,out_var]\n",
    "    print('%s: mean LR = %.3f, sem = %.3f'%(cat, dat.mean(), dat.sem()))\n",
    "print('')\n",
    "for ri,row in comparisons.iterrows():\n",
    "    cat1 = row['catA']\n",
    "    cat2 = row['catB']\n",
    "    print(cat1, ' vs ', cat2)\n",
    "    dat1 = vws_data.loc[vws_data['class']==cat1,out_var]\n",
    "    dat2 = vws_data.loc[vws_data['class']==cat2,out_var]\n",
    "    print('delta = %.3f'%(dat1.mean()-dat2.mean()))\n",
    "    print(mwu(dat1,dat2, alternative = 'two-sided'))\n",
    "    print('')"
   ]
  },
  {
   "cell_type": "markdown",
   "id": "8fe47745",
   "metadata": {},
   "source": [
    "## Plot average contributions of parties by themes"
   ]
  },
  {
   "cell_type": "code",
   "execution_count": null,
   "id": "107f80bc",
   "metadata": {},
   "outputs": [],
   "source": [
    "party_dat = vws_data[['party','LR','TANGAL','text','LEEF','SDOH']].groupby(['party'],as_index=False) \\\n",
    "        .agg({'text':'size', 'LR':'mean', 'TANGAL':'mean', 'LEEF':'mean', 'SDOH':'mean'}) \\\n",
    "        .rename(columns={'text':'Nr. of speaking turns'}) \\\n",
    "        .reset_index()\n",
    "party_dat[['LEEF','SDOH']] = party_dat[['LEEF','SDOH']]*100\n",
    "party_dat['Nr. of speaking turns'] = party_dat['Nr. of speaking turns'].astype(int)\n",
    "party_dat = party_dat.rename(columns = {'LR':'Left-Right ideology'})\n",
    "party_dat.head(5)"
   ]
  },
  {
   "cell_type": "code",
   "execution_count": null,
   "id": "e84b5bcb",
   "metadata": {},
   "outputs": [],
   "source": [
    "plot_dat = party_dat.loc[party_dat['Nr. of speaking turns']>500,:]\n",
    "plot_dat.shape"
   ]
  },
  {
   "cell_type": "code",
   "execution_count": null,
   "id": "886f7e34",
   "metadata": {},
   "outputs": [],
   "source": [
    "fig,ax = plt.subplots(nrows = 1, ncols = 1, figsize=[10,6])\n",
    "sns.scatterplot(data = plot_dat, x = 'LEEF', y = 'SDOH', size = 'Nr. of speaking turns', edgecolor = 'grey',\n",
    "                hue = 'Left-Right ideology', ax = ax, palette = 'RdBu', sizes = (100,300), hue_norm = (-2,2))\n",
    "randfact = 0.1\n",
    "for ri,row in plot_dat.iterrows():\n",
    "    randdist = 0.01 + np.random.rand()*randfact\n",
    "    textloc = [row['LEEF'] + randdist,row['SDOH'] + randdist]\n",
    "    ax.text(*textloc,row['party'], fontdict = {'color':'k', 'size':12, 'weight':'normal'})\n",
    "\n",
    "norm = plt.Normalize(-2, 2)\n",
    "sm = plt.cm.ScalarMappable(cmap=\"RdBu\", norm=norm)\n",
    "sm.set_array([])\n",
    "\n",
    "ax.set(xlabel = 'Lifestyle (% of contributions)',\n",
    "       ylabel = 'Social determinants of health (% of contributions)',\n",
    "       ylim = [0, 4], xlim = [0, 6], aspect = 1,\n",
    "       title = 'All parties with > 500 contributions in VWS committee',\n",
    "       xticks = np.arange(0,6.1,.5), yticks = np.arange(0,4.1,.5))\n",
    "\n",
    "plt.legend(ax.get_legend_handles_labels()[0][6:], ax.get_legend_handles_labels()[1][6:], loc = [.7, .17])\n",
    "ax.figure.colorbar(sm, orientation = 'horizontal', shrink = .2, anchor = [0.823, 0], pad = -.15, drawedges = False,\n",
    "                   label = 'Left-Right ideology')\n",
    "\n",
    "plt.tight_layout()\n",
    "fig.savefig(results_dir + '//Parties_themes.pdf', bbox_inches = 'tight', transparent = True)"
   ]
  }
 ],
 "metadata": {
  "kernelspec": {
   "display_name": "Python 3 (ipykernel)",
   "language": "python",
   "name": "python3"
  },
  "language_info": {
   "codemirror_mode": {
    "name": "ipython",
    "version": 3
   },
   "file_extension": ".py",
   "mimetype": "text/x-python",
   "name": "python",
   "nbconvert_exporter": "python",
   "pygments_lexer": "ipython3",
   "version": "3.9.6"
  }
 },
 "nbformat": 4,
 "nbformat_minor": 5
}
