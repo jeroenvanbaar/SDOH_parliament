{
 "cells": [
  {
   "cell_type": "markdown",
   "id": "08563a49",
   "metadata": {},
   "source": [
    "# Set up environment"
   ]
  },
  {
   "cell_type": "code",
   "execution_count": null,
   "id": "17e1e84d",
   "metadata": {},
   "outputs": [],
   "source": [
    "import sys\n",
    "print(sys.prefix)"
   ]
  },
  {
   "cell_type": "code",
   "execution_count": null,
   "id": "316c09c9",
   "metadata": {},
   "outputs": [],
   "source": [
    "import numpy as np\n",
    "import pandas as pd\n",
    "import seaborn as sns\n",
    "import matplotlib.pyplot as plt\n",
    "import urllib, os,sys, pdfplumber, glob, requests, wordcloud, re, dateparser"
   ]
  },
  {
   "cell_type": "markdown",
   "id": "9192c128",
   "metadata": {},
   "source": [
    "# Set up working dir"
   ]
  },
  {
   "cell_type": "code",
   "execution_count": null,
   "id": "fca98c33",
   "metadata": {},
   "outputs": [],
   "source": [
    "base_dir = os.path.realpath('../..')\n",
    "print(base_dir)\n",
    "data_dir = base_dir + '\\Data'"
   ]
  },
  {
   "cell_type": "markdown",
   "id": "3d389e59",
   "metadata": {},
   "source": [
    "## Load speaking turns data"
   ]
  },
  {
   "cell_type": "code",
   "execution_count": null,
   "id": "e5e0c7bd",
   "metadata": {},
   "outputs": [],
   "source": [
    "in_dir = data_dir + '\\\\TK_commissieVWS\\\\auto_download_20230118'"
   ]
  },
  {
   "cell_type": "code",
   "execution_count": null,
   "id": "64b53a59",
   "metadata": {},
   "outputs": [],
   "source": [
    "all_speaking_turns = pd.read_csv(in_dir + '\\speaking_turns_clean_coded_noSEGV.csv', header = 0, index_col = 0)"
   ]
  },
  {
   "cell_type": "code",
   "execution_count": null,
   "id": "7c655cb4",
   "metadata": {},
   "outputs": [],
   "source": [
    "all_speaking_turns.shape"
   ]
  },
  {
   "cell_type": "code",
   "execution_count": null,
   "id": "0c2dbe0a",
   "metadata": {},
   "outputs": [],
   "source": [
    "all_speaking_turns.head()"
   ]
  },
  {
   "cell_type": "code",
   "execution_count": null,
   "id": "65119ed7",
   "metadata": {},
   "outputs": [],
   "source": [
    "all_speaking_turns['LEEF'].sum()"
   ]
  },
  {
   "cell_type": "markdown",
   "id": "f0bddee2",
   "metadata": {},
   "source": [
    "## Label data with predictors: LR, GALTAN"
   ]
  },
  {
   "cell_type": "code",
   "execution_count": null,
   "id": "384bd00b",
   "metadata": {},
   "outputs": [],
   "source": [
    "pol_orient = pd.read_excel(base_dir + '\\\\Data\\\\KK 2006-2021 coordinaten partijen nieuw.xlsx', sheet_name = 'cleaned')\n",
    "pol_orient['party'] = pol_orient['party'].apply(lambda x: x.lower())"
   ]
  },
  {
   "cell_type": "code",
   "execution_count": null,
   "id": "7fdfd014",
   "metadata": {
    "scrolled": true
   },
   "outputs": [],
   "source": [
    "pol_orient"
   ]
  },
  {
   "cell_type": "markdown",
   "id": "9da8428a",
   "metadata": {},
   "source": [
    "##### Add in missing parties"
   ]
  },
  {
   "cell_type": "code",
   "execution_count": null,
   "id": "dc74d2b2",
   "metadata": {},
   "outputs": [],
   "source": [
    "parties_with_orient = pol_orient['party'].unique().tolist()\n",
    "parties_with_orient = np.sort(parties_with_orient)\n",
    "print(parties_with_orient)"
   ]
  },
  {
   "cell_type": "code",
   "execution_count": null,
   "id": "08904660",
   "metadata": {},
   "outputs": [],
   "source": [
    "parties_with_speaking_turn = all_speaking_turns['party'].unique().tolist()\n",
    "# print(parties_with_speaking_turn)"
   ]
  },
  {
   "cell_type": "code",
   "execution_count": null,
   "id": "67338bb8",
   "metadata": {},
   "outputs": [],
   "source": [
    "parties_without_orient = [a for a in parties_with_speaking_turn if a not in parties_with_orient]\n",
    "parties_without_orient = np.sort(parties_without_orient)\n",
    "print(parties_without_orient)"
   ]
  },
  {
   "cell_type": "code",
   "execution_count": null,
   "id": "f9c36c7f",
   "metadata": {},
   "outputs": [],
   "source": [
    "party_orient_copy_dict = {\n",
    "    'bontes-klaveren':'pvv',\n",
    "    'den haan':'50plus',\n",
    "    'gkvk':'50plus',\n",
    "    'kuzu-öztürk':'denk',\n",
    "    'klein':'50plus',\n",
    "    'krol':'50plus',\n",
    "    'leijten':'sp',\n",
    "    'lid omtzigt':'cda',\n",
    "    'monasch':'pvda',\n",
    "    'van haga':'fvd',\n",
    "    'verdonk':'vvd',\n",
    "    'vka':'pvdd'\n",
    "}"
   ]
  },
  {
   "cell_type": "code",
   "execution_count": null,
   "id": "8cfec408",
   "metadata": {},
   "outputs": [],
   "source": [
    "for oldname in party_orient_copy_dict:\n",
    "    newname = party_orient_copy_dict[oldname]\n",
    "    print(oldname)\n",
    "    tmp = pol_orient.loc[pol_orient['party']==newname,:].copy()\n",
    "    tmp['party'] = oldname\n",
    "    pol_orient = pol_orient.append(tmp)"
   ]
  },
  {
   "cell_type": "code",
   "execution_count": null,
   "id": "35ac4995",
   "metadata": {},
   "outputs": [],
   "source": [
    "pol_orient = pol_orient.sort_values(['year','party'])\n",
    "parties_with_orient = pol_orient['party'].unique().tolist()\n",
    "print(parties_with_orient)"
   ]
  },
  {
   "cell_type": "code",
   "execution_count": null,
   "id": "3a81edb2",
   "metadata": {},
   "outputs": [],
   "source": [
    "pol_orient"
   ]
  },
  {
   "cell_type": "markdown",
   "id": "cbefaa8e",
   "metadata": {},
   "source": [
    "##### Interpolate years"
   ]
  },
  {
   "cell_type": "code",
   "execution_count": null,
   "id": "1db8b3d3",
   "metadata": {},
   "outputs": [],
   "source": [
    "years = pd.DataFrame(np.arange(2008,2023), columns = ['year'])"
   ]
  },
  {
   "cell_type": "code",
   "execution_count": null,
   "id": "28722ffd",
   "metadata": {
    "scrolled": true
   },
   "outputs": [],
   "source": [
    "pol_orient_interpolate = pd.DataFrame()\n",
    "for pi,party in enumerate(pol_orient['party'].unique()):\n",
    "    print(party)\n",
    "    tmp = pol_orient.loc[pol_orient['party']==party].copy().reset_index(drop=True)\n",
    "    tmp = tmp.merge(years, on = 'year', how = 'outer').sort_values('year')\n",
    "    tmp = tmp.interpolate(method = 'linear', limit_direction ='forward').interpolate(method = 'linear', limit_direction ='backward')\n",
    "    tmp['party'] = party\n",
    "    pol_orient_interpolate = pol_orient_interpolate.append(tmp)"
   ]
  },
  {
   "cell_type": "code",
   "execution_count": null,
   "id": "e1f848d4",
   "metadata": {},
   "outputs": [],
   "source": [
    "pol_orient_interpolate.to_csv(base_dir + '\\\\Data\\\\KiesKompas_interpolated.csv')"
   ]
  },
  {
   "cell_type": "markdown",
   "id": "c88a62b4",
   "metadata": {},
   "source": [
    "##### Merge into speaking turns data"
   ]
  },
  {
   "cell_type": "code",
   "execution_count": null,
   "id": "27957605",
   "metadata": {},
   "outputs": [],
   "source": [
    "vws_data = all_speaking_turns.merge(pol_orient_interpolate[['party','LR','TANGAL','year']], on = ['party','year'])[\n",
    "    ['year','date','doc_nr','turn_nr','gender','name','party','LR','TANGAL','text','LEEF','SDOH']]"
   ]
  },
  {
   "cell_type": "code",
   "execution_count": null,
   "id": "b10c8340",
   "metadata": {},
   "outputs": [],
   "source": [
    "vws_data['class'] = 'other'\n",
    "vws_data.loc[vws_data['LEEF']==1,'class'] = 'LEEF'\n",
    "vws_data.loc[vws_data['SDOH']==1,'class'] = 'SDOH'\n",
    "vws_data.loc[((vws_data['LEEF']==1) & (vws_data['SDOH']==1)),'class'] = 'both'"
   ]
  },
  {
   "cell_type": "code",
   "execution_count": null,
   "id": "4bd418bf",
   "metadata": {},
   "outputs": [],
   "source": [
    "vws_data.head()"
   ]
  },
  {
   "cell_type": "code",
   "execution_count": null,
   "id": "39eb12e8",
   "metadata": {},
   "outputs": [],
   "source": [
    "vws_data['LEEF'].sum()"
   ]
  },
  {
   "cell_type": "markdown",
   "id": "1f3546f7",
   "metadata": {},
   "source": [
    "## Label data with predictors: cabinet ID and time since installation"
   ]
  },
  {
   "cell_type": "code",
   "execution_count": null,
   "id": "761e2010",
   "metadata": {},
   "outputs": [],
   "source": [
    "from datetime import datetime\n",
    "date_format = \"%Y-%m-%d\""
   ]
  },
  {
   "cell_type": "code",
   "execution_count": null,
   "id": "e6bcc8a2",
   "metadata": {},
   "outputs": [],
   "source": [
    "cabinets = pd.DataFrame({\n",
    "    'Balkenende-IV':'2006-11-30',\n",
    "    'Rutte-I':'2010-06-17',\n",
    "    'Rutte-II':'2012-09-20',\n",
    "    'Rutte-III':'2017-03-23',\n",
    "    'Rutte-IV':'2021-03-31'\n",
    "}\n",
    "    , index = [0]).T.reset_index()\n",
    "cabinets.columns = ['name','date']\n",
    "cabinets"
   ]
  },
  {
   "cell_type": "code",
   "execution_count": null,
   "id": "7a417220",
   "metadata": {
    "scrolled": true
   },
   "outputs": [],
   "source": [
    "for cabi,cabdat in cabinets.iterrows():\n",
    "    name, date = cabdat.values.tolist()\n",
    "    if cabi < (cabinets.shape[0] - 1):\n",
    "        nextdate = cabinets.iloc[cabi+1]['date']\n",
    "    else:\n",
    "        nextdate = '2030-01-01'\n",
    "    print(name,date)\n",
    "    vws_data.loc[(vws_data['date'] >= date) & (vws_data['date'] < nextdate), 'cabinet'] = name\n",
    "    dates = vws_data.loc[(vws_data['date'] >= date) & (vws_data['date'] < nextdate), 'date'].apply(lambda x: datetime.strptime(x, date_format))\n",
    "    days_diffs = (dates - datetime.strptime(date, date_format)).apply(lambda x: x.days).values\n",
    "    vws_data.loc[(vws_data['date'] >= date) & (vws_data['date'] < nextdate), 'days_since_installation'] = days_diffs\n",
    "    vws_data.loc[(vws_data['date'] >= date) & (vws_data['date'] < nextdate), 'month_since_installation'] = (np.ceil(np.divide(days_diffs,(365.25/12)))).astype(int)\n",
    "    vws_data.loc[(vws_data['date'] >= date) & (vws_data['date'] < nextdate), 'share_of_period'] = (days_diffs - np.min(days_diffs))/np.max(days_diffs - np.min(days_diffs))"
   ]
  }
 ],
 "metadata": {
  "kernelspec": {
   "display_name": "Python 3 (ipykernel)",
   "language": "python",
   "name": "python3"
  },
  "language_info": {
   "codemirror_mode": {
    "name": "ipython",
    "version": 3
   },
   "file_extension": ".py",
   "mimetype": "text/x-python",
   "name": "python",
   "nbconvert_exporter": "python",
   "pygments_lexer": "ipython3",
   "version": "3.9.6"
  }
 },
 "nbformat": 4,
 "nbformat_minor": 5
}
