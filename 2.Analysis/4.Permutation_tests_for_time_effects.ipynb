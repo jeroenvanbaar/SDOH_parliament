{
 "cells": [
  {
   "cell_type": "markdown",
   "id": "08563a49",
   "metadata": {},
   "source": [
    "# Set up environment"
   ]
  },
  {
   "cell_type": "code",
   "execution_count": null,
   "id": "17e1e84d",
   "metadata": {},
   "outputs": [],
   "source": [
    "import sys\n",
    "print(sys.prefix)"
   ]
  },
  {
   "cell_type": "code",
   "execution_count": null,
   "id": "316c09c9",
   "metadata": {},
   "outputs": [],
   "source": [
    "import numpy as np\n",
    "import pandas as pd\n",
    "import seaborn as sns\n",
    "import matplotlib.pyplot as plt\n",
    "import urllib, os,sys, pdfplumber, glob, requests, wordcloud, re, dateparser"
   ]
  },
  {
   "cell_type": "markdown",
   "id": "9192c128",
   "metadata": {},
   "source": [
    "# Set up working dir"
   ]
  },
  {
   "cell_type": "code",
   "execution_count": null,
   "id": "fca98c33",
   "metadata": {},
   "outputs": [],
   "source": [
    "base_dir = os.path.realpath('../..')\n",
    "print(base_dir)\n",
    "data_dir = base_dir + '\\Data'"
   ]
  },
  {
   "cell_type": "code",
   "execution_count": null,
   "id": "1f2a883a",
   "metadata": {},
   "outputs": [],
   "source": [
    "in_dir = data_dir + '\\\\TK_commissieVWS\\\\auto_download_20230118'"
   ]
  },
  {
   "cell_type": "code",
   "execution_count": null,
   "id": "18303643",
   "metadata": {},
   "outputs": [],
   "source": [
    "results_dir = base_dir + '\\\\Results\\\\dataset_20230118'"
   ]
  },
  {
   "cell_type": "markdown",
   "id": "3d389e59",
   "metadata": {},
   "source": [
    "## Load speaking turns data"
   ]
  },
  {
   "cell_type": "code",
   "execution_count": null,
   "id": "2612d286",
   "metadata": {},
   "outputs": [],
   "source": [
    "vws_data = pd.read_csv(in_dir + '\\\\speaking_turns_coded_labeled_noSEGV.csv', index_col = 0)"
   ]
  },
  {
   "cell_type": "code",
   "execution_count": null,
   "id": "1228bb7d",
   "metadata": {},
   "outputs": [],
   "source": [
    "vws_data['month'] = vws_data['date'].apply(lambda x: x[:7])"
   ]
  },
  {
   "cell_type": "code",
   "execution_count": null,
   "id": "6e55462b",
   "metadata": {
    "scrolled": true
   },
   "outputs": [],
   "source": [
    "vws_data.head(2)"
   ]
  },
  {
   "cell_type": "code",
   "execution_count": null,
   "id": "e4e6796f",
   "metadata": {},
   "outputs": [],
   "source": [
    "vws_data.tail(2)"
   ]
  },
  {
   "cell_type": "markdown",
   "id": "2527c47f",
   "metadata": {},
   "source": [
    " "
   ]
  },
  {
   "cell_type": "code",
   "execution_count": null,
   "id": "2dd36388",
   "metadata": {},
   "outputs": [],
   "source": [
    "cabinets = vws_data['cabinet'].unique().tolist()\n",
    "print(cabinets)"
   ]
  },
  {
   "cell_type": "code",
   "execution_count": null,
   "id": "b0eb2148",
   "metadata": {},
   "outputs": [],
   "source": [
    "cabinet_dates = pd.DataFrame({\n",
    "    'Balkenende-IV':'2006-11-30',\n",
    "    'Rutte-I':'2010-06-17',\n",
    "    'Rutte-II':'2012-09-20',\n",
    "    'Rutte-III':'2017-03-23',\n",
    "    'Rutte-IV':'2021-03-31'\n",
    "}\n",
    "    , index = [0]).T.reset_index()\n",
    "cabinet_dates.columns = ['name','date']\n",
    "cabinet_dates"
   ]
  },
  {
   "cell_type": "code",
   "execution_count": null,
   "id": "bc992d30",
   "metadata": {},
   "outputs": [],
   "source": [
    "events = ['preventieakkoord']"
   ]
  },
  {
   "cell_type": "code",
   "execution_count": null,
   "id": "e4c96d61",
   "metadata": {},
   "outputs": [],
   "source": [
    "vws_data.shape"
   ]
  },
  {
   "cell_type": "markdown",
   "id": "670b9227",
   "metadata": {},
   "source": [
    "## Inductively investigating peaks and troughs in LEEF/SDOH contributions"
   ]
  },
  {
   "cell_type": "code",
   "execution_count": null,
   "id": "98ad2cc4",
   "metadata": {},
   "outputs": [],
   "source": [
    "nice_cat_labels = {'LEEF':'Lifestyle','SDOH':'SDOH'}\n",
    "\n",
    "import matplotlib.ticker as mtick\n",
    "import matplotlib.dates as mdates"
   ]
  },
  {
   "cell_type": "markdown",
   "id": "ebe327a1",
   "metadata": {},
   "source": [
    "Average by month:"
   ]
  },
  {
   "cell_type": "code",
   "execution_count": null,
   "id": "171471d9",
   "metadata": {},
   "outputs": [],
   "source": [
    "month_data = vws_data[['date','month','year','cabinet','LEEF','SDOH','days_since_installation','preventieakkoord']\n",
    "                   ].groupby(by=['month'], as_index=False).mean().copy()\n",
    "month_data['month_dt'] = pd.to_datetime(month_data['month'], infer_datetime_format=True)\n",
    "\n",
    "xtickstep = 3\n",
    "fig, axes = plt.subplots(1,1,figsize=[14,4])\n",
    "sns.lineplot(data = month_data, x = 'month_dt', y = 'LEEF', label = 'Lifestyle', )\n",
    "sns.lineplot(data = month_data, x = 'month_dt', y = 'SDOH', label = 'SDOH')\n",
    "axes.set(ylabel = 'Parliamentary contributions referencing theme',\n",
    "        title = 'When does Commissie VWS talk about lifestyle/SDOH?')\n",
    "axes.yaxis.set_major_formatter(mtick.PercentFormatter(xmax = 1, decimals = 0))\n",
    "\n",
    "# Add labels for events\n",
    "for ei,event in enumerate([events[0]]):\n",
    "    axes.plot(month_data.loc[month_data[event]==1,'month_dt'],\n",
    "          -.02*np.ones(len(month_data.loc[month_data[event]==1,'month_dt'])), label = event)\n",
    "axes.legend();\n",
    "\n",
    "# Add dotted lines for cabinets\n",
    "for ci,cab in cabinet_dates.iterrows():\n",
    "    month = cab['date'][:7]\n",
    "#     print(month)\n",
    "    if (month >= month_data['month'].min()) and (month <= month_data['month'].max()):\n",
    "        axes.plot([pd.to_datetime(month), pd.to_datetime(month)], [-0.02,.4], 'k--')\n",
    "        axes.text(pd.to_datetime(month), 0.35, '  '+cab['name'], ha='left')\n",
    "\n",
    "# Add peak indicators\n",
    "for ci,cat in enumerate(['LEEF','SDOH']):\n",
    "    cutoff = month_data[cat].mean() + month_data[cat].std()*3\n",
    "    peak_data = month_data.loc[month_data[cat]>=cutoff,:].copy()\n",
    "    sns.scatterplot(data = peak_data, x = 'month_dt', y = cat, s = 100,\n",
    "                    label = '%s > 3*s.d.'%(nice_cat_labels[cat]), zorder = 10, edgecolor = 'k')\n",
    "    peak_text = vws_data.loc[(vws_data['month'].isin(peak_data['month'].unique()) & \n",
    "                              (vws_data[cat]==1)),:]\n",
    "    peak_data.to_csv(results_dir + '//Peak_data_%s.csv'%cat)\n",
    "    peak_text.to_csv(results_dir + '//Peak_snippets_%s.csv'%cat)\n",
    "    print('Peak text snippets saved for %s'%cat)\n",
    "\n",
    "# Show every nth month label\n",
    "axes.xaxis.set_major_locator(mdates.YearLocator())\n",
    "axes.xaxis.set_major_formatter(mdates.DateFormatter('%m-%Y'))\n",
    "axes.xaxis.set_minor_locator(mdates.MonthLocator())\n",
    "plt.xlim([pd.to_datetime('06-2008', format = '%m-%Y'),pd.to_datetime('12-2022', format = '%m-%Y')])\n",
    "axes.set(xlabel = 'Calendar date (by month)')\n",
    "\n",
    "fig.savefig(results_dir + '//Time_course_LEEF_SDOH_by_month.pdf', bbox_inches = 'tight', transparent = True)"
   ]
  },
  {
   "cell_type": "code",
   "execution_count": null,
   "id": "11b54c28",
   "metadata": {},
   "outputs": [],
   "source": [
    "peak_data"
   ]
  },
  {
   "cell_type": "markdown",
   "id": "60e1ea44",
   "metadata": {},
   "source": [
    "# Testing lifestyle drift"
   ]
  },
  {
   "cell_type": "code",
   "execution_count": null,
   "id": "ce8d3f63",
   "metadata": {},
   "outputs": [],
   "source": [
    "# Settings:\n",
    "n_perm = 10000\n",
    "time_var = 'days_since_installation'\n",
    "time_var_pretty = 'Days since installation'\n",
    "center_estimator = np.median\n",
    "cent_est_label = 'median'"
   ]
  },
  {
   "cell_type": "code",
   "execution_count": null,
   "id": "51e6e3c4",
   "metadata": {},
   "outputs": [],
   "source": [
    "fig, axes = plt.subplots(nrows = len(cabinets[1:]), ncols = 1, figsize = [12,3*len(cabinets[1:])])\n",
    "\n",
    "colors = {'LEEF':sns.color_palette('tab10')[0],\n",
    "          'SDOH':sns.color_palette('tab10')[1],\n",
    "         'Neither':sns.color_palette('Greys',2)[1]}\n",
    "labels = {'LEEF':'Lifestyle',\n",
    "          'SDOH':'SDOH',\n",
    "          'Neither':'Control'}\n",
    "linestyles = {'LEEF':'-',\n",
    "             'SDOH':'-',\n",
    "             'Neither':'--'}\n",
    "plot_cats = ['LEEF','SDOH','Neither']\n",
    "\n",
    "all_bars = pd.DataFrame(columns = ['cab_i','cabinet','cat','bar_height'])\n",
    "\n",
    "for cab_i,cabinet in enumerate(cabinets[1:]):\n",
    "    \n",
    "    print(cabinet)\n",
    "    \n",
    "    cab_dat = vws_data.loc[vws_data.cabinet==cabinet,:].copy().reset_index(drop=True)\n",
    "    time_obs = cab_dat[time_var].values\n",
    "    \n",
    "    leef_obs = cab_dat['LEEF'].values\n",
    "    sdoh_obs = cab_dat['SDOH'].values\n",
    "    neither_obs = 1 - (cab_dat['LEEF'] | cab_dat['SDOH']).values\n",
    "    obs_dict = {'LEEF':leef_obs,\n",
    "               'SDOH':sdoh_obs,\n",
    "               'Neither':neither_obs}\n",
    "    \n",
    "    ax = axes[cab_i]\n",
    "    \n",
    "    # Histograms\n",
    "    for cat_i, cat in enumerate(plot_cats):\n",
    "        histinfo = ax.hist(time_obs[obs_dict[cat]==1], bins = np.arange(0,1600,90), alpha = 1,\n",
    "                    density = True, label = labels[cat], color = colors[cat], histtype = 'step', lw = 1)\n",
    "        all_bars_tmp = pd.DataFrame(histinfo[0], columns = ['bar_height'])\n",
    "        all_bars_tmp['cab_i'] = cab_i\n",
    "        all_bars_tmp['cabinet'] = cabinet\n",
    "        all_bars_tmp['cat'] = cat\n",
    "        all_bars_tmp['x'] = np.arange(0,1600,90)[:-1]\n",
    "        all_bars_tmp['x'] = all_bars_tmp['x'].astype(int)\n",
    "        all_bars = all_bars.append(all_bars_tmp)\n",
    "        \n",
    "    # Medians\n",
    "    line_lim = np.multiply(ax.get_ylim(),1.2)\n",
    "    for cat in plot_cats:\n",
    "        center_time = center_estimator(time_obs[obs_dict[cat]==1])\n",
    "        ax.plot([center_time, center_time],line_lim,\n",
    "                ls = linestyles[cat], color = colors[cat], lw = 3, label = '%s(%s)'%(cent_est_label, labels[cat]))\n",
    "        if cat in ['LEEF','SDOH']:\n",
    "            # Add p-value:\n",
    "            cat_obs_perm = np.copy(obs_dict[cat])\n",
    "            perm_center_time = []\n",
    "            for p in range(n_perm):\n",
    "                np.random.shuffle(cat_obs_perm)\n",
    "                perm_center_time.append(center_estimator(time_obs[cat_obs_perm==1]))\n",
    "            if center_time >= np.mean(perm_center_time):\n",
    "                p_val = np.mean(center_time < perm_center_time)\n",
    "            else:\n",
    "                p_val = np.mean(center_time > perm_center_time)\n",
    "            p_val_2sided = 2.*p_val\n",
    "            p_val_corrected_2sided = p_val_2sided*4. # Bonferroni correction across 4 cabinets\n",
    "            bbox = {'fc': '1', 'edgecolor':colors[cat], 'pad': .5, 'boxstyle': 'round'}\n",
    "            ypos = line_lim[1]*1.1\n",
    "            if cat == 'SDOH':\n",
    "                ypos = line_lim[1]*.9\n",
    "            p_text = 'p = %.4f'%p_val_corrected_2sided if p_val_corrected_2sided < 0.05 else 'n.s.'\n",
    "            ax.text(center_time, ypos, p_text,\n",
    "                    color = colors[cat], fontdict = {'ha': 'center', 'va': 'center', 'bbox': bbox})\n",
    "            ax.set_ylim([line_lim[0], line_lim[1]*1.3])\n",
    "    \n",
    "    # Look\n",
    "    ax.set(title = cabinet, xlabel = time_var_pretty, yticks = [], ylabel = 'Density')\n",
    "    ax.legend()\n",
    "\n",
    "plt.tight_layout()\n",
    "# fig.savefig(results_dir + '//Permutation_test_median_topical_delay.pdf',\n",
    "#             bbox_inches = 'tight', transparent = True)"
   ]
  }
 ],
 "metadata": {
  "kernelspec": {
   "display_name": "Python 3 (ipykernel)",
   "language": "python",
   "name": "python3"
  },
  "language_info": {
   "codemirror_mode": {
    "name": "ipython",
    "version": 3
   },
   "file_extension": ".py",
   "mimetype": "text/x-python",
   "name": "python",
   "nbconvert_exporter": "python",
   "pygments_lexer": "ipython3",
   "version": "3.9.6"
  }
 },
 "nbformat": 4,
 "nbformat_minor": 5
}
