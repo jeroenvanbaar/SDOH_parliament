{
 "cells": [
  {
   "cell_type": "markdown",
   "id": "08563a49",
   "metadata": {},
   "source": [
    "# Load python packages"
   ]
  },
  {
   "cell_type": "code",
   "execution_count": null,
   "id": "17e1e84d",
   "metadata": {},
   "outputs": [],
   "source": [
    "import sys\n",
    "print(sys.prefix)"
   ]
  },
  {
   "cell_type": "code",
   "execution_count": null,
   "id": "316c09c9",
   "metadata": {},
   "outputs": [],
   "source": [
    "import numpy as np\n",
    "import pandas as pd\n",
    "import seaborn as sns\n",
    "import matplotlib.pyplot as plt\n",
    "import urllib, os,sys, pdfplumber, glob, requests, wordcloud, re, dateparser, tqdm"
   ]
  },
  {
   "cell_type": "markdown",
   "id": "9192c128",
   "metadata": {},
   "source": [
    "# Set up working dir"
   ]
  },
  {
   "cell_type": "code",
   "execution_count": null,
   "id": "fca98c33",
   "metadata": {},
   "outputs": [],
   "source": [
    "base_dir = os.path.realpath('../..')\n",
    "print(base_dir)\n",
    "data_dir = base_dir + '\\Data'"
   ]
  },
  {
   "cell_type": "markdown",
   "id": "07067a3a",
   "metadata": {},
   "source": [
    "# List all files"
   ]
  },
  {
   "cell_type": "code",
   "execution_count": null,
   "id": "8427439e",
   "metadata": {},
   "outputs": [],
   "source": [
    "in_dir = data_dir + '\\TK_commissieVWS\\\\auto_download_20230118\\\\original'\n",
    "out_dir = data_dir + '\\TK_commissieVWS\\\\auto_download_20230118\\\\text'"
   ]
  },
  {
   "cell_type": "code",
   "execution_count": null,
   "id": "34eba928",
   "metadata": {},
   "outputs": [],
   "source": [
    "file_info = pd.read_csv(in_dir + '\\downloaded_doc_info.csv', index_col = 0)\n",
    "file_info.head(n=3).append(file_info.tail(n=3))"
   ]
  },
  {
   "cell_type": "code",
   "execution_count": null,
   "id": "161ba877",
   "metadata": {},
   "outputs": [],
   "source": [
    "file_info.shape"
   ]
  },
  {
   "cell_type": "markdown",
   "id": "08d95ee3",
   "metadata": {},
   "source": [
    "# Function"
   ]
  },
  {
   "cell_type": "code",
   "execution_count": null,
   "id": "69521750",
   "metadata": {},
   "outputs": [],
   "source": [
    "def write_text_file(in_dir, in_fname, out_dir, out_fname):\n",
    "    \n",
    "    # Find\n",
    "    print('>> %s'%in_fname)\n",
    "    in_fullpath = '%s%s'%(in_dir, in_fname)\n",
    "\n",
    "    # Read\n",
    "    pdf = pdfplumber.open(in_fullpath)\n",
    "    cover_page = pdf.pages[0]\n",
    "    content_pages = pdf.pages[2:]\n",
    "\n",
    "    ### 2. Determine number of columns in page somewhere in the middle\n",
    "    if len(content_pages) > 5:\n",
    "        page = content_pages[int(len(content_pages)/2+2)] # This is to ensure that we don't evaluate the first page but also don't go over\n",
    "    elif len(content_pages) > 1:\n",
    "        page = content_pages[1]\n",
    "    else:\n",
    "        page = content_pages[0]\n",
    "\n",
    "    n_slivers = 100\n",
    "    sliver_edges = np.round(np.linspace(0,1,n_slivers+1), decimals = 3)\n",
    "    sliver_contents = []\n",
    "    for sliver_start, sliver_end in zip(sliver_edges[:-1],sliver_edges[1:]):\n",
    "        bbox = (sliver_start*float(page.width), 0, sliver_end*float(page.width), float(page.height))\n",
    "        sliver = page.crop(bbox)\n",
    "        sliver_text = sliver.extract_text()\n",
    "        sliver_text = sliver_text.replace('\\n','') if sliver_text is not None else ''\n",
    "        sliver_contents.append(len(sliver_text))\n",
    "\n",
    "    sliver_yesno = sliver_contents > np.mean(sliver_contents)\n",
    "    n_cols = int(sum(np.diff(sliver_yesno)) / 2)\n",
    "    n_cols = 2 if (n_cols == 2 and sliver_yesno[50] == False) else 1 # Double check: the middle sliver must be below the mean text density (i.e. whitespace in the middle between 2 columns)\n",
    "    print('Number of columns: %i'%n_cols)\n",
    "\n",
    "    ### 3. Extract text with appropriate x tolerance\n",
    "\n",
    "    # Extract text\n",
    "    acceptable_word_length = False\n",
    "    xtol = 3\n",
    "    left_bbox = (0, 0, 0.5*float(page.width), float(page.height))\n",
    "    right_bbox = (0.5*float(page.width), 0, float(page.width), float(page.height))\n",
    "\n",
    "    while acceptable_word_length == False:\n",
    "        verslag_pages = []\n",
    "\n",
    "        # Loop over content pages\n",
    "        print('Reading pdf...')\n",
    "        for page in content_pages:\n",
    "\n",
    "            # Read by column\n",
    "            if n_cols == 2:\n",
    "                left_col = page.crop(left_bbox)\n",
    "                left_col_text = left_col.extract_text(x_tolerance = xtol)\n",
    "                if left_col_text is not None:\n",
    "                    right_col = page.crop(right_bbox)\n",
    "                    right_col_text = right_col.extract_text(x_tolerance = xtol)\n",
    "                    page_text = left_col_text + ' ' + right_col_text\n",
    "                else:\n",
    "                    page_text = left_col_text # If left column is empty, we skip the right column\n",
    "            elif n_cols == 1:\n",
    "                page_text = page.extract_text(x_tolerance = xtol)\n",
    "            else:\n",
    "                raise ValueError('Impossible number of columns: %i'%n_cols)\n",
    "\n",
    "            # Check for empty pages\n",
    "            if page_text == None:\n",
    "                print('Skipping %s'%page)\n",
    "            else:\n",
    "                verslag_pages.append(page_text)\n",
    "        verslag_text = ' '.join(verslag_pages)\n",
    "\n",
    "        # Check mean word length and repeat if necessary\n",
    "        mean_word_length = np.divide(len(verslag_text), len(verslag_text.split(' ')))\n",
    "        if mean_word_length > 40:\n",
    "            if xtol == 1: # If the xtol is already at 1, skip this file\n",
    "                print('Mean word length = %.2f, still too long. Skipping doc...'%mean_word_length)\n",
    "                return\n",
    "            else: # Otherwise lower the xtol to 1\n",
    "                print('Mean word length = %.2f, lowering space x tolerance to 1.'%mean_word_length)\n",
    "                xtol = 1\n",
    "        else:\n",
    "            print('Continuing with mean word length = %.2f.'%mean_word_length)\n",
    "            acceptable_word_length = True\n",
    "\n",
    "    ### 4. Page 1: find \" op DATUM overleg gevoerd\" => extract date\n",
    "    cover_page_text = cover_page.extract_text(x_tolerance = xtol).replace('\\n', ' ')\n",
    "    after_vastgesteld = cover_page_text[cover_page_text.find('astgesteld')+30:]\n",
    "    str_to_find = '\\s+\\d\\d?\\s+\\w+\\s+\\d\\d\\d\\d'\n",
    "    # 'op\\s\\d+\\s\\w+\\s\\d+\\soverleg' # Sometimes it's \"heeft op donderdag 25 mei 2016 overleg...\" or \"hebben op 4 juni gesprekken gevoerd...\" so the text is not consistent enough to match anything else than the date\n",
    "    date_found = re.findall(str_to_find, after_vastgesteld)[0]\n",
    "    date_formatted = dateparser.parse(date_found)\n",
    "    date_string = date_formatted.strftime('%Y.%m.%d')\n",
    "    print('Datum vergadering: %s'%date_string)\n",
    "\n",
    "    out_fullpath = out_dir + \"\\\\%s.txt\"%(out_fname)\n",
    "\n",
    "    ### 5. Save\n",
    "    text_file = open(out_fullpath, \"w\", encoding='utf-8')\n",
    "    n = text_file.write(verslag_text)\n",
    "    print('Wrote text file with n = %i'%n)\n",
    "    text_file.close()"
   ]
  },
  {
   "cell_type": "markdown",
   "id": "f6659b68",
   "metadata": {},
   "source": [
    "# Try single file"
   ]
  },
  {
   "cell_type": "code",
   "execution_count": null,
   "id": "67e0cab1",
   "metadata": {},
   "outputs": [],
   "source": [
    "file = file_info.sample(n=1).iloc[0,:]\n",
    "file"
   ]
  },
  {
   "cell_type": "code",
   "execution_count": null,
   "id": "1f9fe24f",
   "metadata": {},
   "outputs": [],
   "source": [
    "in_fname = file['fname']\n",
    "out_fname = 'doc%04d_%s_%s_%s'%(file['doc'], file['doc_id'], file['debate_date'], file['short_name'])\n",
    "print(in_dir, '\\n', in_fname, '\\n')\n",
    "print(out_dir, '\\n', out_fname)"
   ]
  },
  {
   "cell_type": "code",
   "execution_count": null,
   "id": "95276e34",
   "metadata": {},
   "outputs": [],
   "source": [
    "write_text_file(in_dir, in_fname, out_dir, out_fname)"
   ]
  },
  {
   "cell_type": "markdown",
   "id": "065d67a5",
   "metadata": {},
   "source": [
    "# Loop over many files"
   ]
  },
  {
   "cell_type": "code",
   "execution_count": null,
   "id": "b20847b6",
   "metadata": {},
   "outputs": [],
   "source": [
    "file_info.shape[0]"
   ]
  },
  {
   "cell_type": "code",
   "execution_count": null,
   "id": "545083bc",
   "metadata": {
    "scrolled": true
   },
   "outputs": [],
   "source": [
    "# Get files\n",
    "for file_id in tqdm.tqdm(np.arange(0,730)):\n",
    "    print('File ID #%i'%file_id)\n",
    "    file = file_info.iloc[file_id,:]\n",
    "    in_fname = file['fname']\n",
    "    out_fname = 'doc%04d_%s_%s_%s'%(file['doc'], file['doc_id'], file['debate_date'], file['short_name'])\n",
    "    try:\n",
    "        write_text_file(in_dir, in_fname, out_dir, out_fname)\n",
    "    except:\n",
    "        print('*** SKIPPING this file with ID %i, some scraping problem could not be solved'%file_id)"
   ]
  }
 ],
 "metadata": {
  "kernelspec": {
   "display_name": "Python 3 (ipykernel)",
   "language": "python",
   "name": "python3"
  },
  "language_info": {
   "codemirror_mode": {
    "name": "ipython",
    "version": 3
   },
   "file_extension": ".py",
   "mimetype": "text/x-python",
   "name": "python",
   "nbconvert_exporter": "python",
   "pygments_lexer": "ipython3",
   "version": "3.9.6"
  }
 },
 "nbformat": 4,
 "nbformat_minor": 5
}
