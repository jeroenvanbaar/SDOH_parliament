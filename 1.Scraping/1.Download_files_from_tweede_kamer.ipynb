{
 "cells": [
  {
   "cell_type": "markdown",
   "id": "08563a49",
   "metadata": {},
   "source": [
    "# Load python packages"
   ]
  },
  {
   "cell_type": "code",
   "execution_count": null,
   "id": "17e1e84d",
   "metadata": {},
   "outputs": [],
   "source": [
    "import sys\n",
    "print(sys.prefix)"
   ]
  },
  {
   "cell_type": "code",
   "execution_count": null,
   "id": "316c09c9",
   "metadata": {},
   "outputs": [],
   "source": [
    "import numpy as np\n",
    "import pandas as pd\n",
    "import seaborn as sns\n",
    "import matplotlib.pyplot as plt\n",
    "import urllib, os,sys, pdfplumber, glob, requests, re"
   ]
  },
  {
   "cell_type": "markdown",
   "id": "9192c128",
   "metadata": {},
   "source": [
    "# Set up working dir"
   ]
  },
  {
   "cell_type": "code",
   "execution_count": null,
   "id": "fca98c33",
   "metadata": {},
   "outputs": [],
   "source": [
    "base_dir = os.path.realpath('../..')\n",
    "print(base_dir)\n",
    "data_dir = base_dir + '\\Data'"
   ]
  },
  {
   "cell_type": "code",
   "execution_count": null,
   "id": "bc8ac2b1",
   "metadata": {},
   "outputs": [],
   "source": [
    "data_dir"
   ]
  },
  {
   "cell_type": "markdown",
   "id": "ed40a7b1",
   "metadata": {},
   "source": [
    "# Find documents on website"
   ]
  },
  {
   "cell_type": "markdown",
   "id": "2dc4365a",
   "metadata": {},
   "source": [
    "Get URLs from TweedeKamer.nl search function"
   ]
  },
  {
   "cell_type": "code",
   "execution_count": null,
   "id": "016adcf9",
   "metadata": {},
   "outputs": [],
   "source": [
    "base_search_page_URL = 'https://www.tweedekamer.nl/kamerstukken/commissieverslagen?qry=%2A&fld_prl_kamerstuk=Commissieverslagen&fld_tk_categorie=kamerstukken&srt=date%3Adesc%3Adate&fld_prl_voortouwcommissie=vaste+commissie+voor+Volksgezondheid%2C+Welzijn+en+Sport&fromdate=01%2F01%2F2005&clusterName=Tweedekamer.nl&sta='\n",
    "base_doc_URL = 'https://www.tweedekamer.nl/downloads/document?id='"
   ]
  },
  {
   "cell_type": "code",
   "execution_count": null,
   "id": "54f14f43",
   "metadata": {
    "scrolled": true
   },
   "outputs": [],
   "source": [
    "all_doc_URLs = pd.DataFrame(columns = ['page','doc','doc_date','doc_id','URL'])\n",
    "search_start_indices = np.arange(1,800,15) #613\n",
    "for pi,si in enumerate(search_start_indices):\n",
    "    print(pi,si)\n",
    "    search_page_URL = base_search_page_URL + str(si)\n",
    "    print(search_page_URL)\n",
    "    print('')\n",
    "    req = requests.get(search_page_URL, 'html.parser')\n",
    "    doc_dates = re.findall(r'>([a-zA-Z0-9 ]+)</time>',req.text)\n",
    "    doc_ids = re.findall(r'href=\"/downloads/document\\?id=([0-9]+D[0-9]+)\"',req.text)\n",
    "    doc_URLs = [base_doc_URL + a for a in doc_ids]\n",
    "    if len(doc_dates) != len(doc_URLs):\n",
    "        raise ValueError('unequal length of recovered dates and files')\n",
    "    if len(doc_URLs) != len(np.unique(doc_URLs)):\n",
    "        raise ValueError('duplicate URLs recovered')\n",
    "    tmp = pd.DataFrame.from_dict({'doc_date':doc_dates,'doc_id':doc_ids, 'URL':doc_URLs})\n",
    "    tmp['page'] = pi\n",
    "    tmp['doc'] = np.arange(si,si+tmp.shape[0])\n",
    "    all_doc_URLs = all_doc_URLs.append(tmp[['page','doc','doc_date','doc_id','URL']])\n",
    "all_doc_URLs = all_doc_URLs.reset_index(drop=True)"
   ]
  },
  {
   "cell_type": "code",
   "execution_count": null,
   "id": "bb73ae46",
   "metadata": {
    "scrolled": true
   },
   "outputs": [],
   "source": [
    "all_doc_URLs.head()"
   ]
  },
  {
   "cell_type": "code",
   "execution_count": null,
   "id": "bca7459c",
   "metadata": {},
   "outputs": [],
   "source": [
    "all_doc_URLs.shape"
   ]
  },
  {
   "cell_type": "code",
   "execution_count": null,
   "id": "118d6abd",
   "metadata": {},
   "outputs": [],
   "source": [
    "len(all_doc_URLs['URL'].unique())"
   ]
  },
  {
   "cell_type": "code",
   "execution_count": null,
   "id": "76a24cb3",
   "metadata": {},
   "outputs": [],
   "source": [
    "all_doc_URLs.to_csv(data_dir + '\\TK_commissieVWS\\\\all_doc_URLs.csv')"
   ]
  },
  {
   "cell_type": "markdown",
   "id": "27605b41",
   "metadata": {},
   "source": [
    "# Download docs to Data folder"
   ]
  },
  {
   "cell_type": "code",
   "execution_count": null,
   "id": "421cfd25",
   "metadata": {},
   "outputs": [],
   "source": [
    "all_doc_URLs = pd.read_csv(data_dir + '\\TK_commissieVWS\\\\all_doc_URLs.csv', index_col = 0)\n",
    "all_doc_URLs.head()"
   ]
  },
  {
   "cell_type": "code",
   "execution_count": null,
   "id": "cf05f0bb",
   "metadata": {},
   "outputs": [],
   "source": [
    "def download_file(download_url, filename):\n",
    "    response = urllib.request.urlopen(download_url)    \n",
    "    file = open(filename, 'wb')\n",
    "    file.write(response.read())\n",
    "    file.close()"
   ]
  },
  {
   "cell_type": "code",
   "execution_count": null,
   "id": "b0d357f3",
   "metadata": {},
   "outputs": [],
   "source": [
    "forbidden_chars = '<>:\"/\\|?*!@/#$,.'"
   ]
  },
  {
   "cell_type": "code",
   "execution_count": null,
   "id": "81d621ad",
   "metadata": {},
   "outputs": [],
   "source": [
    "from datetime import date\n",
    "datestr = date.today().strftime('%Y%m%d')\n",
    "print(datestr)"
   ]
  },
  {
   "cell_type": "code",
   "execution_count": null,
   "id": "ce4e6957",
   "metadata": {},
   "outputs": [],
   "source": [
    "out_dir = data_dir + '\\TK_commissieVWS\\\\auto_download_%s\\original'%datestr\n",
    "print('saving to: ',out_dir)\n",
    "if not os.path.isdir(out_dir):\n",
    "    os.makedirs(out_dir)\n",
    "    print('Out dir created')"
   ]
  },
  {
   "cell_type": "code",
   "execution_count": null,
   "id": "5ba9d1bc",
   "metadata": {},
   "outputs": [],
   "source": [
    "downloaded_doc_info = pd.DataFrame()"
   ]
  },
  {
   "cell_type": "code",
   "execution_count": null,
   "id": "675370b0",
   "metadata": {
    "scrolled": true
   },
   "outputs": [],
   "source": [
    "for doci,doc_info in all_doc_URLs.iloc[0:,:].iterrows():\n",
    "    print(doci, end = '')\n",
    "    URL = doc_info['URL']\n",
    "    \n",
    "    # Find info about file from headers\n",
    "    response = urllib.request.urlopen(URL)\n",
    "    headers = dict(response.getheaders())\n",
    "    ftype = headers['Content-Type']\n",
    "    \n",
    "    if ftype == 'application/pdf':\n",
    "        doc_nr = doc_info['doc']\n",
    "        doc_id = doc_info['doc_id']\n",
    "        doc_date = doc_info['doc_date']\n",
    "        if 'Content-Disposition' in headers.keys():\n",
    "            fname = headers['Content-Disposition'].split('filename=')[-1].strip('\\\"\\'')\n",
    "            extracted_dates = re.findall(r'gehouden op ([0-9]+ *[a-zA-Z]+ *[0-9]+)', fname)\n",
    "            if len(extracted_dates) > 0:\n",
    "                debate_date = extracted_dates[0]\n",
    "            else:\n",
    "                debate_date = 'nodate'\n",
    "        else:\n",
    "            fname = 'noname.pdf'\n",
    "            debate_date = 'nodate'\n",
    "        # Clean filename: not too long and without forbidden characters such as / \\ \n",
    "        cleaned_doc_name = fname.translate(str.maketrans('', '', forbidden_chars))\n",
    "        cleaned_doc_name = cleaned_doc_name[:-3] + '.pdf'\n",
    "        short_doc_name = cleaned_doc_name[:np.min([40,len(cleaned_doc_name)-10])] + '_' + cleaned_doc_name[-10:]\n",
    "        out_fname = '\\doc%04d_%s_%s_%s'%(doc_nr, doc_id, debate_date, short_doc_name)\n",
    "        download_file(URL, out_dir + out_fname)\n",
    "        \n",
    "        doc_info['debate_date'] = debate_date\n",
    "        doc_info['debate_name'] = fname\n",
    "        doc_info['short_name'] = short_doc_name\n",
    "        doc_info['fname'] = out_fname\n",
    "        \n",
    "        downloaded_doc_info = downloaded_doc_info.append(doc_info)\n",
    "    else:\n",
    "        print('doc', end = '')\n",
    "    print(', ', end = '')"
   ]
  },
  {
   "cell_type": "code",
   "execution_count": null,
   "id": "728079fb",
   "metadata": {},
   "outputs": [],
   "source": [
    "downloaded_doc_info.head(n=3).append(downloaded_doc_info.tail(n=3))"
   ]
  },
  {
   "cell_type": "code",
   "execution_count": null,
   "id": "e612f4a6",
   "metadata": {},
   "outputs": [],
   "source": [
    "downloaded_doc_info.to_csv(out_dir + '\\downloaded_doc_info.csv')"
   ]
  }
 ],
 "metadata": {
  "kernelspec": {
   "display_name": "Python 3 (ipykernel)",
   "language": "python",
   "name": "python3"
  },
  "language_info": {
   "codemirror_mode": {
    "name": "ipython",
    "version": 3
   },
   "file_extension": ".py",
   "mimetype": "text/x-python",
   "name": "python",
   "nbconvert_exporter": "python",
   "pygments_lexer": "ipython3",
   "version": "3.9.6"
  }
 },
 "nbformat": 4,
 "nbformat_minor": 5
}
